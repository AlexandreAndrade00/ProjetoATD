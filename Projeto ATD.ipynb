{
 "cells": [
  {
   "cell_type": "markdown",
   "id": "2a847d40",
   "metadata": {},
   "source": [
    "# Projeto de ATD"
   ]
  },
  {
   "cell_type": "markdown",
   "id": "43fafe24",
   "metadata": {},
   "source": [
    "## Executar primeiro este bloco antes de qualquer outro"
   ]
  },
  {
   "cell_type": "code",
   "execution_count": null,
   "id": "45d6d0d4",
   "metadata": {},
   "outputs": [],
   "source": [
    "fileID1 = fopen('atividades.txt', 'r');\n",
    "labels=load('labels.txt');\n",
    "atividades = textscan(fileID1, '%d %s');\n",
    "atividades = string(atividades{:,2});\n",
    "fs=50;\n",
    "\n",
    "data = {};\n",
    "for i=1:8\n",
    "    file = sprintf(\"InputFiles/acc_exp0%d_user0%d.txt\", i, round(i/2));\n",
    "    [data{i}(:,1),data{i}(:,2), data{i}(:,3)]= openFile(file);\n",
    "end\n",
    "\n",
    "%plot native"
   ]
  },
  {
   "cell_type": "markdown",
   "id": "a9c8f42b",
   "metadata": {},
   "source": [
    "## Algoritmo para obter dados e realizar DFT"
   ]
  },
  {
   "cell_type": "code",
   "execution_count": null,
   "id": "db864aba",
   "metadata": {
    "scrolled": true
   },
   "outputs": [],
   "source": [
    "threshold=0.8;     %QUANTIDADE DE PONTOS A IGNORAR\n",
    "exp=1;             %SELECIONAR EXPERIENCIA\n",
    "atividade=1;       %ATIVIDADE A IR BUSCAR GRAFICOS\n",
    "\n",
    "figure()\n",
    "for i=1:3\n",
    "    subplot(310+i)\n",
    "    displayGraph(data{exp}(:,i), 'none')\n",
    "end\n",
    "\n",
    "count=1;\n",
    "for i = 1:size(labels,1)\n",
    "    if any(labels(i,1)==exp) && any(labels(i,3)==atividade)\n",
    "        text=sprintf(\"Experiencia %d Atividade %s Instancia %d:\\n\", exp, atividades(atividade), count);\n",
    "        disp(text)\n",
    "        DFT(data{labels(i,1)}(:,1),data{labels(i,1)}(:,2),data{labels(i,1)}(:,3),fs,labels(i, 4),labels(i, 5), threshold, true);\n",
    "        count=count+1;\n",
    "    end\n",
    "end"
   ]
  },
  {
   "cell_type": "markdown",
   "id": "fbcba053",
   "metadata": {},
   "source": [
    "## Exercício 2"
   ]
  },
  {
   "cell_type": "code",
   "execution_count": null,
   "id": "29821e72",
   "metadata": {},
   "outputs": [],
   "source": [
    "cores = [\"gray\", \"cyan\", \"lime\", \"green\", \"red\", \"blue\", \"purple\", \"magenta\", \"brown\", \"indigo\", \"pink\", \"gold\"];\n",
    "\n",
    "hold on\n",
    "for j=1:8\n",
    "    figure(j)\n",
    "    for i=1:3\n",
    "        subplot(310+i)\n",
    "        displayGraph(data{j}(:,i), 'black')\n",
    "    end\n",
    "end\n",
    "hold off\n",
    "\n",
    "for i = 1:size(labels,1)\n",
    "    displayGraphNew(data, labels, i, cores(labels(i, 3)), true)\n",
    "end"
   ]
  },
  {
   "cell_type": "markdown",
   "id": "315729a1",
   "metadata": {},
   "source": [
    "## Exercicio 3.1"
   ]
  },
  {
   "cell_type": "markdown",
   "id": "d04e3974",
   "metadata": {},
   "source": [
    "Foram experimentadas 3 janelas: Hamming, retangular e Blackman. A janela retangular não atenua de forma eficiente as descontinuidades do gráfico, pelo que não se tratará de uma boa escolha para analisar o dataset apresentado.\n",
    "Já a janela de Hamming parece ser uma boa escolha, uma vez que permite atenuar as descontinuidades próximas do lobo principal.\n",
    "A janela de blackman seria uma boa escolha caso se pretendessem analisar pontos mais afastados do lobo principal do gráfico, uma vez que atenua de forma eficiente descontinuidades mais afastadas desse mesmo lobo, mas não faz um bom trabalho nas que se encontram junto a ele.\n",
    "Deste modo, concluimos que a janela de Hamming seria a melhor opção de todas as testadas para proceder à análise do dataset dado."
   ]
  },
  {
   "cell_type": "markdown",
   "id": "430319ee",
   "metadata": {},
   "source": [
    "## Exercício 3.3"
   ]
  },
  {
   "cell_type": "markdown",
   "id": "a4264e10",
   "metadata": {},
   "source": [
    "### Stand"
   ]
  },
  {
   "cell_type": "code",
   "execution_count": null,
   "id": "6d580fe6",
   "metadata": {
    "scrolled": true
   },
   "outputs": [],
   "source": [
    "openfig(\"3.2/usr01_ex01/STAND.fig\");\n",
    "openfig(\"3.2/usr01_ex02/STAND.fig\");\n",
    "openfig(\"3.2/usr02_ex03/STAND.fig\");\n",
    "openfig(\"3.2/usr02_ex04/STAND.fig\");\n",
    "openfig(\"3.2/usr03_ex05/STAND.fig\");\n",
    "openfig(\"3.2/usr03_ex06/STAND.fig\");\n",
    "openfig(\"3.2/usr04_ex07/stand.fig\");\n",
    "openfig(\"3.2/usr04_ex08/stand.fig\");"
   ]
  },
  {
   "cell_type": "markdown",
   "id": "15b29117",
   "metadata": {},
   "source": [
    "Na atividade estática STAND, as frequências obtidas pela DFT foram iguais para todos os eixos, para todos os utilizadores, 0Hz (desprezando eventual ruído), as amplitudes também foram menores que 0.01, que vai de encontro ao esperado, visto que nesta atividade os indivíduos estão parados, não havendo assim movimento para ser lido pelos sensores. "
   ]
  },
  {
   "cell_type": "markdown",
   "id": "ce7717f4",
   "metadata": {},
   "source": [
    "### Sit"
   ]
  },
  {
   "cell_type": "code",
   "execution_count": null,
   "id": "b239498f",
   "metadata": {},
   "outputs": [],
   "source": [
    "openfig(\"3.2/usr01_ex01/SIT.fig\");\n",
    "openfig(\"3.2/usr01_ex02/SIT.fig\");\n",
    "openfig(\"3.2/usr02_ex03/SIT.fig\");\n",
    "openfig(\"3.2/usr02_ex04/SIT.fig\");\n",
    "openfig(\"3.2/usr03_ex05/SIT.fig\");\n",
    "openfig(\"3.2/usr03_ex06/SIT.fig\");\n",
    "openfig(\"3.2/usr04_ex07/sit.fig\");\n",
    "openfig(\"3.2/usr04_ex08/sit.fig\");"
   ]
  },
  {
   "cell_type": "markdown",
   "id": "3e109a99",
   "metadata": {},
   "source": [
    "Na atividade estática SIT as frequências obtidas pela DFT são em geral similares entre utilizadores e próximas de 0Hz, se desprezarmos o ruído inerente à experiência. Os valores relativos à amplitude do movimento são também baixos. Estes são os resultados esperados para esta atividade pois trata-se de uma atividade estática, na qual os indivíduos estão parados, não havendo assim grandes oscilações no sinal."
   ]
  },
  {
   "cell_type": "markdown",
   "id": "9eb59e41",
   "metadata": {},
   "source": [
    "### Lay"
   ]
  },
  {
   "cell_type": "code",
   "execution_count": null,
   "id": "a3b6a347",
   "metadata": {},
   "outputs": [],
   "source": [
    "openfig(\"3.2/usr01_ex01/LAY.fig\");\n",
    "openfig(\"3.2/usr01_ex02/LAY.fig\");\n",
    "openfig(\"3.2/usr02_ex03/LAY.fig\");\n",
    "openfig(\"3.2/usr02_ex04/LAY.fig\");\n",
    "openfig(\"3.2/usr03_ex05/LAY.fig\");\n",
    "openfig(\"3.2/usr03_ex06/LAY.fig\");\n",
    "openfig(\"3.2/usr04_ex07/lay.fig\");\n",
    "openfig(\"3.2/usr04_ex08/lay.fig\");"
   ]
  },
  {
   "cell_type": "markdown",
   "id": "0e4bcc51",
   "metadata": {},
   "source": [
    "Na atividade estática LAY as frequências obtidas pela DFT são em geral similares entre utilizadores e próximas de 0Hz, se desprezarmos o ruído inerente à experiência. Os valores relativos à amplitude do movimento são também baixos. Estes são os resultados esperados para esta atividade pois trata-se de uma atividade estática e por isso os indivíduos estão parados, não havendo assim grandes oscilações no sinal."
   ]
  },
  {
   "cell_type": "markdown",
   "id": "1f905621",
   "metadata": {},
   "source": [
    "### Stand_Sit"
   ]
  },
  {
   "cell_type": "code",
   "execution_count": null,
   "id": "8fe49548",
   "metadata": {},
   "outputs": [],
   "source": [
    "openfig(\"3.2/usr01_ex01/STAND_SIT.fig\");\n",
    "openfig(\"3.2/usr01_ex02/STAND_SIT.fig\");\n",
    "openfig(\"3.2/usr02_ex03/STAND_SIT.fig\");\n",
    "openfig(\"3.2/usr02_ex04/STAND_SIT.fig\");\n",
    "openfig(\"3.2/usr03_ex05/STAND_SIT.fig\");\n",
    "openfig(\"3.2/usr03_ex06/STAND_SIT.fig\");\n",
    "openfig(\"3.2/usr04_ex07/stand sit.fig\");\n",
    "openfig(\"3.2/usr04_ex08/stand sit.fig\");"
   ]
  },
  {
   "cell_type": "markdown",
   "id": "5ff600c1",
   "metadata": {},
   "source": [
    "Na atividade de transição STAND_SIT, em quase todos os casos o eixo X teve uma maior frequencia do que os outros, variando entre 0.39Hz e 2.89Hz, os acelerómetros Y e Z obtiveram valores próximos, tendo o acelerómetro Z frequências maiores, variando entre 0.19 e 0.78. Os acelerómetros mais relevantes para identificar esta atividade são o X e o Z. Entre utilizadores houve diferenças na frequência no acelerómetro X, tendo alguns utilizadores movimentos mais rápidos que outros."
   ]
  },
  {
   "cell_type": "markdown",
   "id": "abce919a",
   "metadata": {},
   "source": [
    "### Stand_Lie"
   ]
  },
  {
   "cell_type": "code",
   "execution_count": null,
   "id": "a9f46d72",
   "metadata": {},
   "outputs": [],
   "source": [
    "openfig(\"3.2/usr01_ex01/STAND_LIE.fig\");\n",
    "openfig(\"3.2/usr01_ex02/STAND_LIE.fig\");\n",
    "openfig(\"3.2/usr02_ex03/STAND_LIE.fig\");\n",
    "openfig(\"3.2/usr02_ex04/STAND_LIE.fig\");\n",
    "openfig(\"3.2/usr03_ex05/STAND_LIE.fig\");\n",
    "openfig(\"3.2/usr03_ex06/STAND_LIE.fig\");\n",
    "openfig(\"3.2/usr04_ex07/stand lie.fig\");\n",
    "openfig(\"3.2/usr04_ex08/stand lie.fig\");"
   ]
  },
  {
   "cell_type": "markdown",
   "id": "7bc95eae",
   "metadata": {},
   "source": [
    "Na atividade de transição STAND_LIE normalmente as frequências encontram-se no intervalo 0.10Hz - 0.30Hz e um fator que a destingue é a diferença da amplitude, mais notório nos acelerómetros X e Y."
   ]
  },
  {
   "cell_type": "markdown",
   "id": "a545a11e",
   "metadata": {},
   "source": [
    "### Sit_Stand"
   ]
  },
  {
   "cell_type": "code",
   "execution_count": null,
   "id": "f73498ba",
   "metadata": {},
   "outputs": [],
   "source": [
    "openfig(\"3.2/usr02_ex04/SIT_STAND.fig\");\n",
    "openfig(\"3.2/usr03_ex05/SIT_STAND.fig\");\n",
    "openfig(\"3.2/usr03_ex06/SIT_STAND.fig\");\n",
    "openfig(\"3.2/usr04_ex07/sit stand.fig\");\n",
    "openfig(\"3.2/usr04_ex08/sit stand.fig\");"
   ]
  },
  {
   "cell_type": "markdown",
   "id": "ec7ea1b9",
   "metadata": {},
   "source": [
    "Na atividade de transição SIT_STAND verificam-se valores superiores de frequência no eixo X que variam entre 0.41Hz e 1.5Hz. Nos acelerómetros Y e Z os valores são bastante similares não ultrapassando 0.92Hz."
   ]
  },
  {
   "cell_type": "markdown",
   "id": "bb86a487",
   "metadata": {},
   "source": [
    "### Sit_Lie"
   ]
  },
  {
   "cell_type": "code",
   "execution_count": null,
   "id": "f79267cb",
   "metadata": {},
   "outputs": [],
   "source": [
    "openfig(\"3.2/usr02_ex04/SIT_LIE.fig\");\n",
    "openfig(\"3.2/usr03_ex05/SIT_LIE.fig\");\n",
    "openfig(\"3.2/usr03_ex06/SIT_LIE.fig\");\n",
    "openfig(\"3.2/usr04_ex07/sit lie.fig\");\n",
    "openfig(\"3.2/usr04_ex08/sit lie.fig\");"
   ]
  },
  {
   "cell_type": "markdown",
   "id": "97129ebf",
   "metadata": {},
   "source": [
    "Na atividade de transição SIT_LIE verifica-se que as frequências são bastante semelhantes em todos os acelerómetros e com valores muito próximos de 0Hz, nunca ultrapassando o valor de 0.53Hz."
   ]
  },
  {
   "cell_type": "markdown",
   "id": "d82d8b33",
   "metadata": {},
   "source": [
    "### Lie_Stand"
   ]
  },
  {
   "cell_type": "code",
   "execution_count": null,
   "id": "792a06c6",
   "metadata": {},
   "outputs": [],
   "source": [
    "openfig(\"3.2/usr01_ex01/LIE_STAND.fig\");\n",
    "openfig(\"3.2/usr01_ex02/LIE_STAND.fig\");\n",
    "openfig(\"3.2/usr02_ex03/LIE_STAND.fig\");\n",
    "openfig(\"3.2/usr02_ex04/LIE_STAND.fig\");\n",
    "openfig(\"3.2/usr03_ex05/LIE_STAND.fig\");\n",
    "openfig(\"3.2/usr03_ex06/LIE_STAND.fig\");\n",
    "openfig(\"3.2/usr04_ex07/lie stand.fig\");\n",
    "openfig(\"3.2/usr04_ex08/lie stand.fig\");"
   ]
  },
  {
   "cell_type": "markdown",
   "id": "1c4ee782",
   "metadata": {},
   "source": [
    "Na atividade de transição LIE_STAND verificam-se valores superiores de frequência correspondente ao acelerómetro Y, que variam entre 0.52Hz e 0.90Hz. Nos acelerómetros X e Z os valores são quase sempre semelhantes, nunca ultrapassando 0.41Hz. Todos os acelerómetros são importantes para caraterizar esta atividade, uma vez que os utilizadores têm de se levantar e por isso existe movimento da cintura para a frente, movimento este acompanhado por oscilações"
   ]
  },
  {
   "cell_type": "markdown",
   "id": "b71a3e92",
   "metadata": {},
   "source": [
    "### Lie_Sit"
   ]
  },
  {
   "cell_type": "code",
   "execution_count": null,
   "id": "3efc8eee",
   "metadata": {},
   "outputs": [],
   "source": [
    "openfig(\"3.2/usr01_ex01/LIE_SIT.fig\");\n",
    "openfig(\"3.2/usr01_ex02/LIE_SIT.fig\");\n",
    "openfig(\"3.2/usr02_ex03/LIE_SIT.fig\");\n",
    "openfig(\"3.2/usr02_ex04/LIE_SIT.fig\");\n",
    "openfig(\"3.2/usr03_ex05/LIE_SIT.fig\");\n",
    "openfig(\"3.2/usr03_ex06/LIE_SIT.fig\");\n",
    "openfig(\"3.2/usr04_ex07/lie sit.fig\");\n",
    "openfig(\"3.2/usr04_ex08/lie sit.fig\");"
   ]
  },
  {
   "cell_type": "markdown",
   "id": "53e938fb",
   "metadata": {},
   "source": [
    "Na atividade de transição LIE_SIT verificam-se valores superiores de frequência no eixo Y, que variam entre 0.44Hz e 1.52Hz. Nos eixos X e Z os valores são quase sempre semelhantes, nunca ultrapassando 0.71Hz. Os acelerómetros mais importantes para caraterizar esta atividade os dos eixos X e Y, uma vez que ao se deslocar para se sentar ocorre movimento da cintura para a frente, e portanto este que é acompanhado por oscilações."
   ]
  },
  {
   "cell_type": "markdown",
   "id": "b95d91dc",
   "metadata": {},
   "source": [
    "### Walking"
   ]
  },
  {
   "cell_type": "code",
   "execution_count": null,
   "id": "2c24723f",
   "metadata": {},
   "outputs": [],
   "source": [
    "openfig(\"3.2/usr01_ex01/WALKING.fig\");\n",
    "openfig(\"3.2/usr01_ex02/WALKING.fig\");\n",
    "openfig(\"3.2/usr02_ex03/WALKING.fig\");\n",
    "openfig(\"3.2/usr02_ex04/WALKING.fig\");\n",
    "openfig(\"3.2/usr03_ex05/WALKING.fig\");\n",
    "openfig(\"3.2/usr03_ex06/WALKING.fig\");\n",
    "openfig(\"3.2/usr04_ex07/walking.fig\");\n",
    "openfig(\"3.2/usr04_ex08/walking.fig\");"
   ]
  },
  {
   "cell_type": "markdown",
   "id": "adf2a52e",
   "metadata": {},
   "source": [
    "Na atividade dinâmica WALKING as frequências obtidas pela DFT são em geral similares entre utilizadores e encontram-se na gama de valores entre 1.61 e 1.90Hz nos acelerómetro X e Y. Já no acelerómetro Z, a maior parte dos valores apresentaram frequências entre 0.80 e 0.90 Hz. Tendo em conta que se trata da atividade WALKING, faz sentido que os valores da amplitude sejam elevados no acelerómetro X. Assim, obtemos os resultados esperados para esta atividade, pois trata-se de uma atividade dinâmica, sendo por isso esperadas frequência e amplitudes elevadas."
   ]
  },
  {
   "cell_type": "markdown",
   "id": "848f7cc0",
   "metadata": {},
   "source": [
    "### Walking Up"
   ]
  },
  {
   "cell_type": "code",
   "execution_count": null,
   "id": "19e4432e-fe6e-40d3-aff6-75c0be6ea5d2",
   "metadata": {},
   "outputs": [],
   "source": [
    "openfig(\"3.2/usr01_ex01/WALKING_UP.fig\");\n",
    "openfig(\"3.2/usr01_ex02/WALKING_UP.fig\");\n",
    "openfig(\"3.2/usr02_ex03/WALKING_UP.fig\");\n",
    "openfig(\"3.2/usr02_ex04/WALKING_UP.fig\");\n",
    "openfig(\"3.2/usr03_ex05/WALKING_UP.fig\");\n",
    "openfig(\"3.2/usr03_ex06/WALKING_UP.fig\");\n",
    "openfig(\"3.2/usr04_ex07/walking upstairs.fig\");\n",
    "openfig(\"3.2/usr04_ex08/walking upstairs.fig\");"
   ]
  },
  {
   "cell_type": "markdown",
   "id": "25c18eca",
   "metadata": {},
   "source": [
    "Na atividade dinâmica WALKING UPSTAIRS, as frequências obtidas pela DFT para os acelerómetros X e Y, variando entre 1.30Hz e 1.69Hz, o que seria de esperar num movimento dinâmico. No eixo Z as frequências obtidas foram bastante mais baixas variando entre 0.62Hz e 0.83Hz, de notar que muitos utilizadores tiveram a mesma frequência, 0.79Hz."
   ]
  },
  {
   "cell_type": "markdown",
   "id": "6384dabb",
   "metadata": {},
   "source": [
    "### Walking Down"
   ]
  },
  {
   "cell_type": "code",
   "execution_count": null,
   "id": "b427ddc9",
   "metadata": {},
   "outputs": [],
   "source": [
    "openfig(\"3.2/usr01_ex01/WALKING_DOWN.fig\");\n",
    "openfig(\"3.2/usr01_ex02/WALKING_DOWN.fig\");\n",
    "openfig(\"3.2/usr02_ex03/WALKING_DOWN.fig\");\n",
    "openfig(\"3.2/usr02_ex04/WALKING_DOWN.fig\");\n",
    "openfig(\"3.2/usr03_ex05/WALKING_DOWN.fig\");\n",
    "openfig(\"3.2/usr03_ex06/WALKING_DOWN.fig\");\n",
    "openfig(\"3.2/usr04_ex07/walking downstairs.fig\");\n",
    "openfig(\"3.2/usr04_ex08/walking downstairs.fig\");"
   ]
  },
  {
   "cell_type": "markdown",
   "id": "2e6ec39e",
   "metadata": {},
   "source": [
    "Na atividade dinâmica WALKING DOWNSTAIRS, através do cálculo da DFT as frequências que foram obtidas para os acelerómetros X e Y variam entre os 1.54Hz e 2.04Hz. Relativamente ao eixo Z as frequências geradas são menores, quase sempre abaixo de 1Hz, exceptuando o caso do utilizador 2 na experiência 3 que obteve um valor de 1.67Hz."
   ]
  },
  {
   "cell_type": "markdown",
   "id": "1809ea57",
   "metadata": {},
   "source": [
    "## Exercício 3.4"
   ]
  },
  {
   "cell_type": "code",
   "execution_count": null,
   "id": "bb481888",
   "metadata": {},
   "outputs": [],
   "source": [
    "atividades = [\"Usr01Exp01\" \"Usr01Exp02\" \"Usr02Exp03\" \"Usr02Exp04\" \"Usr03Exp05\" \"Usr03Exp06\" \"Usr04Exp07\" \"Usr04Exp08\"];\n",
    "walking = [110 103 106 107 97 103 114 111];\n",
    "walking_up = [87 96 97 96 96 99 78 100];\n",
    "walking_down = [93 104 89 109 100 108 96 101];\n",
    "\n",
    "table(atividades',walking', walking_up', walking_down', 'VariableNames', {'Experiencias', 'Walking', 'Walking upstairs', 'Walking downstairs'})\n",
    "\n",
    "media_walking = mean(walking)\n",
    "media_walking_up = mean(walking_up)\n",
    "media_walking_down = mean(walking_down)\n",
    "\n",
    "desvio_walking = std(walking)\n",
    "desvio_walking_up = std(walking_up)\n",
    "desvio_walking_down = std(walking_down)"
   ]
  },
  {
   "cell_type": "markdown",
   "id": "17aa6080",
   "metadata": {},
   "source": [
    "## Exercício 3.5"
   ]
  },
  {
   "cell_type": "code",
   "execution_count": null,
   "id": "f85ed901",
   "metadata": {},
   "outputs": [],
   "source": [
    "acertou=0;\n",
    "total=0;\n",
    "\n",
    "cores = [\"green\", \"blue\", \"red\"];\n",
    "\n",
    "hold on\n",
    "for j=1:8\n",
    "    figure(j)\n",
    "    for i=1:3\n",
    "        subplot(310+i)\n",
    "        displayGraph(data{j}(:,i), 'black')\n",
    "    end\n",
    "end\n",
    "hold off\n",
    "\n",
    "for i = 1:size(labels,1)\n",
    "        \n",
    "    atividade=labels(i,3);\n",
    "    switch atividade\n",
    "        case {1, 2, 3}\n",
    "            tipo_atividade=3;\n",
    "        case {7, 8, 9, 10, 11, 12}\n",
    "            tipo_atividade=2;\n",
    "        case {4, 5, 6}\n",
    "            tipo_atividade=1;\n",
    "    end\n",
    "    \n",
    "    [amplitudes, freq] = DFT(data{labels(i,1)}(:,1),data{labels(i,1)}(:,2),data{labels(i,1)}(:,3),fs,labels(i, 4),labels(i, 5), threshold, false);\n",
    "    \n",
    "    if amplitudes(1)<0.15 && abs(labels(i, 4)-labels(i, 5)) < 450\n",
    "        tipo_atividade_predicted=2;\n",
    "    elseif amplitudes(3)>0.02 && freq(1) > 1\n",
    "        tipo_atividade_predicted=3;\n",
    "    else\n",
    "        tipo_atividade_predicted=1;\n",
    "    end\n",
    "    \n",
    "    if tipo_atividade==tipo_atividade_predicted\n",
    "        acertou=acertou+1;\n",
    "        total=total+1;\n",
    "    else\n",
    "        total=total+1;\n",
    "    end\n",
    "    \n",
    "    displayGraphNew(data, labels, i, cores(tipo_atividade_predicted), false)\n",
    "end\n",
    "hold off\n",
    "\n",
    "precisao = round((acertou/total)*100);\n",
    "\n",
    "texto = sprintf(\"Acertou %d  tipos de atividades de %d, precisao: %d%%\\n\", acertou, total, precisao);\n",
    "disp(texto);"
   ]
  },
  {
   "cell_type": "markdown",
   "id": "6d0b5832",
   "metadata": {},
   "source": [
    "Os tipos de atividades são facilmente diferenciáveis através da visualização da sua DFT em conjugação com o seu sinal, nas atividades estáticas todos os acelerómetros obtém frequências de 0Hz e amplitudes baixíssimas, na maior parte das vezes na ordem de grandeza igual ou inferior a 10^-3, em todos os utilizadores. Nas atividade de transição as frequências são normalmente inferiores a 1Hz e com amplitudes na ordem de grandeza 10^-2, o que as destingue facilmente dos outros tipos de atividades é a sua duração temporal, sendo muito mais curta. Nas atividades dinâmicas as frequências dos acelerómetros são superiores às frequências das atividades estáticas e de transição, com amplitudes, principalmente no acelerómetro X, bastante maiores. Em termos de sensibilidade e especificidade, todos os tipos de atividades são facilmente diferenciáveis, porque têm características diferentes, como demonstra o algoritmo acima, é possível fazer a destinção dos tipos de atividades com sensibilidade e especificidade de 1. No algoritmo acima para destinguir os tipos de atividades, primeiro foi procurado identificar as atividades de transição, para isso foi usado as amplitudes do acelerómetro X e a duração temporal da atividade. Caso não fosse uma atividade de transição, foi verificado se era uma atividade dinâmica, usando as amplitudes do acelerómetro Z e as frequências da DFT do acelerómetro X. Caso não fosse nenhum tipo de atividade dos testados, conclui-se que é uma atividade estática. Para selecionar quais os melhores eixos do acelerómetro para realizar a DFT para obter as frequências e as amplitudes, foi feito o desvio padrão dos valores de todas as atividades de todas experiências e foi selecionado o que possuia um desvio padrão mais baixo. "
   ]
  },
  {
   "cell_type": "markdown",
   "id": "df664572",
   "metadata": {},
   "source": [
    "## Execício 3.6"
   ]
  },
  {
   "cell_type": "code",
   "execution_count": null,
   "id": "884ab68e",
   "metadata": {},
   "outputs": [],
   "source": [
    "acertou=0;\n",
    "total=0;\n",
    "\n",
    "cores = [\"gray\", \"cyan\", \"lime\", \"green\", \"red\", \"blue\", \"purple\", \"magenta\", \"brown\", \"indigo\", \"pink\", \"gold\"];\n",
    "\n",
    "hold on\n",
    "for j=1:8\n",
    "    figure(j)\n",
    "    for i=1:3\n",
    "        subplot(310+i)\n",
    "        displayGraph(data{j}(:,i), 'black')\n",
    "    end\n",
    "end\n",
    "hold off\n",
    "\n",
    "for i = 1:size(labels,1)\n",
    "\n",
    "    atividade=labels(i,3);\n",
    "    \n",
    "    switch atividade\n",
    "        case {1, 2, 3}\n",
    "            tipo_atividade=3; %DINAMICA\n",
    "        case {7, 8, 9, 10, 11, 12}\n",
    "            tipo_atividade=2; %TRANSICAO\n",
    "        case {4, 5, 6}\n",
    "            tipo_atividade=1; %ESTATICA\n",
    "    end\n",
    "    \n",
    "    amps_x = data{labels(i,1)}(labels(i,4):labels(i,5),1);\n",
    "    amps_y = data{labels(i,1)}(labels(i,4):labels(i,5),2);\n",
    "    amps_z = data{labels(i,1)}(labels(i,4):labels(i,5),3);\n",
    "    \n",
    "    [amplitudes, freq] = DFT(data{labels(i,1)}(:,1),data{labels(i,1)}(:,2),data{labels(i,1)}(:,3),fs,labels(i, 4),labels(i, 5), threshold, false);\n",
    "    \n",
    "    if amplitudes(1)<0.15 && abs(labels(i, 4)-labels(i, 5)) < 450\n",
    "        tipo_atividade_predicted=2;\n",
    "        if max(amps_z)-min(amps_z) < 0.85 && max(amps_x)-min(amps_x) < 0.8\n",
    "            if amps_y(length(amps_y)-1)-amps_y(1) > 0\n",
    "                atividade_predicted=7;\n",
    "            else\n",
    "                atividade_predicted=8;\n",
    "            end\n",
    "        elseif max(amps_y)-min(amps_y) > 1.2 && max(amps_x)-min(amps_x) > 0.8\n",
    "            if amps_y(length(amps_y)-1)-amps_y(1) > 0\n",
    "                atividade_predicted=11;\n",
    "            else\n",
    "                atividade_predicted=12;\n",
    "            end\n",
    "        else\n",
    "            if amps_y(length(amps_y)-1)-amps_y(1) > 0\n",
    "                atividade_predicted=9;\n",
    "            else\n",
    "                atividade_predicted=10;\n",
    "            end\n",
    "        end\n",
    "    elseif amplitudes(3)>0.02 && freq(1) > 1\n",
    "        tipo_atividade_predicted=3;\n",
    "        if max(amps_x) > 1.86\n",
    "            atividade_predicted=3;\n",
    "        elseif freq(3) < 0.84\n",
    "            atividade_predicted=2;\n",
    "        else\n",
    "            atividade_predicted=1;\n",
    "        end\n",
    "    else\n",
    "        tipo_atividade_predicted=1;\n",
    "        if mean(amps_y)>0.7\n",
    "            atividade_predicted=6;\n",
    "        elseif mean(amps_y) < 0\n",
    "            atividade_predicted=5;\n",
    "        else\n",
    "            atividade_predicted=4;\n",
    "        end\n",
    "    end\n",
    "    \n",
    "    \n",
    "    if atividade==atividade_predicted\n",
    "        acertou=acertou+1;\n",
    "        total=total+1;\n",
    "    elseif any(atividade==[1,2,3,4,5,6,7,8,9,10,11,12])\n",
    "        total=total+1;\n",
    "    end\n",
    "   \n",
    "    displayGraphNew(data, labels, i, cores(atividade_predicted), false)\n",
    "end\n",
    "\n",
    "precisao = round((acertou/total)*100);\n",
    "\n",
    "texto = sprintf(\"Acertou %d atividades de %d, precisao: %d%%\\n\", acertou, total, precisao);\n",
    "disp(texto);"
   ]
  },
  {
   "cell_type": "markdown",
   "id": "c581b3b2",
   "metadata": {},
   "source": [
    "### Atividades estáticas"
   ]
  },
  {
   "cell_type": "markdown",
   "id": "642b5d31",
   "metadata": {},
   "source": [
    "Quando nos referimos às atividades estáticas a sua diferenciação é possível a partir do valores de amplitude obtidos pela DFT do gráfico do acelerómetro Y. Na atividade STAND a amplitude é quase sempre menor que 0, a atividade SIT apresenta amplitudes entre 0 e 0.7 e a atividade LAY regista amplitudes superiores a 0.7. Com estes valores foi possível identificar os movimentos com uma precisão de 93%"
   ]
  },
  {
   "cell_type": "markdown",
   "id": "56d9fd96",
   "metadata": {},
   "source": [
    "### Atividades de transição"
   ]
  },
  {
   "cell_type": "markdown",
   "id": "3e361dd8",
   "metadata": {},
   "source": [
    "A análise das atividades de transição é um processo mais complexo quando comparado com a diferenciação de outros tipo de atividades. A diferenciação entre cada uma destas atividades baseia-se nos valores das amplitudes do sinal gerados por cada um dos acelerómetros. Devido a esta análise foi possível prever com precisão de 88% estas atividades. As atividades STAND_SIT e SIT_STAND apresentam amplitudes registadas pelo acelerómetro Z menores que 0 e pelo acelerómetro X menores que 0.8. De maneira a diferenciarmos entre estes dois movimento análogos verificamos se a variação da amplitude do movimento é positiva ou negativa no acerelómetro Y, se for positiva estamos perante a atividade STAND_SIT, caso contrário é a atividade SIT_STAND. Relativamente às atividades STAND_LIE e LIE_STAND analisamos os valores de amplitude do sinal do acelerómetro Y e do acelerómetro X que são em geral maiores do que 1.2 e maiores do que 0.8,respetivamente. Para proceder a diferenciação entre estas duas atividade observamos novamente a variação da amplitude no acelerómetro Y. Se esta for maior do que 0 a atividade analisada corresponde à atividade STAND_LIE, caso contrário é a atividade LIE_STAND. As restantes atividades SIT_LIE e LIE_SIT são aquelas que não apresentam nenhuma das características anteriormente mencionadas e podem ser diferenciadas entre si novamente pela variação positiva ou negativa da amplitude dos valores do acelerómetro Y. Se for positiva estamos perante a atividade SIT_LIE, se for negativa é a atividade LIE_SIT "
   ]
  },
  {
   "cell_type": "markdown",
   "id": "b9af4bb2",
   "metadata": {},
   "source": [
    "### Atividades dinâmicas"
   ]
  },
  {
   "cell_type": "markdown",
   "id": "f5a24963",
   "metadata": {},
   "source": [
    "No que toca a atividades dinâmicas, é possível distingui-las através da análise das suas frequências e dos valores dos acelerómetros. A atividade WALKING_UP é facilmente diferenciada das outras através da análise à frequência no acelerómetro Z. O valor da frequência para esta atividade é normalmente inferior a 0.84 Hz, algo que não se verifica para as outras atividades, que apresentam valores essencialmente semelhantes, variando geralmente entre 1.57Hz e 1.84Hz.\n",
    "Já a atividade WALKING_DOWN é distinguida das outras através da amplitude do acelerómetro X. Esta é por norma superior a 1.86, valor bastante superior aos obtidos para as magnitudes associadas às outras atividades dinâmicas. De acordo com as conclusões tiradas anteriormente, a atividade WALKING apresentará então frequências semelhantes às do WALKING_DOWN, sendo no entanto a amplitude do eixo X substancialmente mais baixa quando comparadada ao valore apresentado pela atividade WALKING_DOWN."
   ]
  },
  {
   "cell_type": "markdown",
   "id": "0c157f99",
   "metadata": {},
   "source": [
    "## Exercício 4.1 e 4.2"
   ]
  },
  {
   "cell_type": "code",
   "execution_count": null,
   "id": "d303aa73",
   "metadata": {},
   "outputs": [],
   "source": [
    "[ACC_X, ACC_Y, ACC_Z] = openFile(\"InputFiles/acc_exp01_user01.txt\");\n",
    "signal = ACC_Z;\n",
    "fs = 50;\n",
    "Tframe = 3; %largura temporal janela\n",
    "Toverlap = 2; %sobreposicao temporal janela\n",
    "Nframe = round(Tframe*fs); %pontos\n",
    "Noverlap = round(Toverlap*fs); %pontos\n",
    "h = hamming(Nframe);\n",
    "N=double(length(signal));\n",
    "\n",
    "if(mod(N,2)==0)\n",
    "    f_frame=-fs/2:fs/Nframe:fs/2-fs/Nframe;\n",
    "else\n",
    "    f_frame=-fs/2+fs/Nframe/2:fs/Nframe:fs/2-fs/Nframe/2;\n",
    "end\n",
    "\n",
    "t = linspace(0,(N-1)/fs,N);\n",
    "f_relev = [];\n",
    "nframes = 0; % para guardar\n",
    "tframes = [];\n",
    "\n",
    "figure(1)\n",
    "plot(t, signal, 'black')\n",
    "for i=tframes\n",
    "    xline(i)\n",
    "end\n",
    "\n",
    "for ii = 1:Nframe-Noverlap:N-Nframe+1\n",
    "    amps_z = signal(ii:ii+Nframe-1);\n",
    "    media_amps = mean(amps_z);\n",
    "    \n",
    "    % aplicar a janela ao sinal do tempo\n",
    "    x_frame = detrend(signal(ii:ii+Nframe-1)).*h;\n",
    "   \n",
    "    % obter a magnitude da fft do sinal\n",
    "    m_X_frame = abs(fftshift(fft(x_frame)));\n",
    "    \n",
    "    % obter o máximo da magnitude do sinal\n",
    "    max_m_X_frame=max(m_X_frame);\n",
    "    \n",
    "    if max_m_X_frame < 2.5\n",
    "        aux =0;\n",
    "    else\n",
    "        % encontrar os índices do máximo da magnitude do sinal\n",
    "        ind=find(abs(m_X_frame-max_m_X_frame)<0.001);\n",
    "    \n",
    "        % encontrar as frequências correspondentes ao máximo de magnitude    \n",
    "        aux=f_frame(ind);\n",
    "        %aux(abs(aux)<0.001)=0;\n",
    "        aux=aux(aux>=-0.1);\n",
    "    end\n",
    "    \n",
    "    if aux == 0\n",
    "        amplitude = max_m_X_frame/Nframe;\n",
    "    else\n",
    "        amplitude = (max_m_X_frame/Nframe)*2;\n",
    "    end\n",
    "    \n",
    "    figure(1)\n",
    "    hold on\n",
    "    if aux > 0.49\n",
    "        tipo_atividade_predicted=3;\n",
    "        p3 = plot(t(ii:ii+Nframe-1), signal(ii:ii+Nframe-1), 'r');\n",
    "    elseif (max(amps_z)-min(amps_z))>0.2\n",
    "        tipo_atividade_predicted=2;\n",
    "        p2 = plot(t(ii:ii+Nframe-1), signal(ii:ii+Nframe-1), 'b');\n",
    "    else\n",
    "        tipo_atividade_predicted=1;\n",
    "        p1 = plot(t(ii:ii+Nframe-1), signal(ii:ii+Nframe-1), 'g');\n",
    "    end\n",
    "    hold off\n",
    "    \n",
    "    f_relev = [f_relev, aux];\n",
    "    \n",
    "    nframes = nframes+1;\n",
    "    \n",
    "    % calcular o vetor de tempo correspondente a cada janela, que aqui\n",
    "    % corresponde ao valor do vetor de tempos, t, em cada janela\n",
    "    t_frame = t(ii:ii+Nframe-1);\n",
    "    tframes = [tframes, t_frame(round(Nframe/2)+1)];\n",
    "end\n",
    "legend([p1, p2, p3], {\"Estatica\", \"Transicao\", \"Dinamica\"});\n",
    "\n",
    "figure(2)\n",
    "plot(tframes, f_relev, 'o');\n",
    "ylabel('Freq(Hz)')\n",
    "xlabel('Tempo(seg)')\n",
    "title('STFT')\n"
   ]
  },
  {
   "cell_type": "markdown",
   "id": "ffeec148",
   "metadata": {},
   "source": [
    "Como neste exercício é só para usar o acelerómetro Z, torna-se difícil distinguir as atividades entre si, no entanto é possível distinguir os tipos de atividades com alguma precisão, através da análise da frequência mais significativa da DFT em conjungação com a análise da amplitude do sinal."
   ]
  }
 ],
 "metadata": {
  "kernelspec": {
   "display_name": "Matlab",
   "language": "matlab",
   "name": "matlab"
  },
  "language_info": {
   "codemirror_mode": "octave",
   "file_extension": ".m",
   "help_links": [
    {
     "text": "MetaKernel Magics",
     "url": "https://metakernel.readthedocs.io/en/latest/source/README.html"
    }
   ],
   "mimetype": "text/x-octave",
   "name": "matlab",
   "version": "0.16.11"
  }
 },
 "nbformat": 4,
 "nbformat_minor": 5
}
