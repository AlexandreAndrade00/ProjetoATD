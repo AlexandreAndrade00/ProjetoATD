{
 "cells": [
  {
   "cell_type": "code",
   "execution_count": null,
   "id": "45d6d0d4",
   "metadata": {},
   "outputs": [],
   "source": [
    "%plot native"
   ]
  },
  {
   "cell_type": "markdown",
   "id": "430319ee",
   "metadata": {},
   "source": [
    "## Exercício 3.3"
   ]
  },
  {
   "cell_type": "markdown",
   "id": "a4264e10",
   "metadata": {},
   "source": [
    "### Stand"
   ]
  },
  {
   "cell_type": "code",
   "execution_count": null,
   "id": "6d580fe6",
   "metadata": {
    "scrolled": true
   },
   "outputs": [],
   "source": [
    "openfig(\"3.2/usr01_ex01/STAND.fig\");\n",
    "openfig(\"3.2/usr01_ex02/STAND.fig\");\n",
    "openfig(\"3.2/usr02_ex03/STAND.fig\");\n",
    "openfig(\"3.2/usr02_ex04/STAND.fig\");\n",
    "openfig(\"3.2/usr03_ex05/STAND.fig\");\n",
    "openfig(\"3.2/usr03_ex06/STAND.fig\");\n",
    "openfig(\"3.2/usr04_ex07/stand.fig\");\n",
    "openfig(\"3.2/usr04_ex08/stand.fig\");"
   ]
  },
  {
   "cell_type": "markdown",
   "id": "15b29117",
   "metadata": {},
   "source": [
    "Na atividade estática STAND, as frequências obtidas pela DFT foram iguais para todos os eixos, para todos os utilizadores, 0Hz (desprezando eventual ruído), que vai de encontro ao esperado, visto que nesta atividade os indivíduos estão parados, não havendo assim movimento para ser lido pelos sensores. "
   ]
  },
  {
   "cell_type": "markdown",
   "id": "9eb59e41",
   "metadata": {},
   "source": [
    "### Lay"
   ]
  },
  {
   "cell_type": "code",
   "execution_count": null,
   "id": "a3b6a347",
   "metadata": {},
   "outputs": [],
   "source": [
    "openfig(\"3.2/usr01_ex01/LAY.fig\");\n",
    "openfig(\"3.2/usr01_ex02/LAY.fig\");\n",
    "openfig(\"3.2/usr02_ex03/LAY.fig\");\n",
    "openfig(\"3.2/usr02_ex04/LAY.fig\");\n",
    "openfig(\"3.2/usr03_ex05/LAY.fig\");\n",
    "openfig(\"3.2/usr03_ex06/LAY.fig\");\n",
    "openfig(\"3.2/usr04_ex07/lay.fig\");\n",
    "openfig(\"3.2/usr04_ex08/lay.fig\");"
   ]
  },
  {
   "cell_type": "markdown",
   "id": "0e4bcc51",
   "metadata": {},
   "source": [
    "Na atividade estática LAY as frequências obtidas pela DFT são em geral similares entre utilizadores e próximas de 0Hz, se desprezarmos o ruído inerente à experiência. Os valores relativos à magnitude do movimento são também baixos. Estes são os resultados esperados para esta atividade pois trata-se de uma atividade estática e por isso os indivíduos estão parados, não havendo assim movimento para ser lido pelos sensores."
   ]
  },
  {
   "cell_type": "markdown",
   "id": "1f905621",
   "metadata": {},
   "source": [
    "### Stand_Sit"
   ]
  },
  {
   "cell_type": "code",
   "execution_count": null,
   "id": "8fe49548",
   "metadata": {},
   "outputs": [],
   "source": [
    "openfig(\"3.2/usr01_ex01/STAND_SIT.fig\");\n",
    "openfig(\"3.2/usr01_ex02/STAND_SIT.fig\");\n",
    "openfig(\"3.2/usr02_ex03/STAND_SIT.fig\");\n",
    "openfig(\"3.2/usr02_ex04/STAND_SIT.fig\");\n",
    "openfig(\"3.2/usr03_ex05/STAND_SIT.fig\");\n",
    "openfig(\"3.2/usr03_ex06/STAND_SIT.fig\");\n",
    "openfig(\"3.2/usr04_ex07/stand sit.fig\");\n",
    "openfig(\"3.2/usr04_ex08/stand sit.fig\");"
   ]
  },
  {
   "cell_type": "markdown",
   "id": "5ff600c1",
   "metadata": {},
   "source": [
    "Na atividade de transição STAND_SIT, em quase todos os casos o eixo X teve uma maior frequencia do que os outros, variando entre 0.39Hz e 2.89Hz, os eixos Y e Z obtiveram valores próximos ou iguais, variando entre 0.19 e 0.78, tendo o eixo Y uma magnitude nos seus valores bastante superior aos outros eixos. Entre utilizadores houve diferenças na frequência no acelerómetro X, tendo alguns utilizadores movimentos mais rápidos que outros."
   ]
  },
  {
   "cell_type": "markdown",
   "id": "abce919a",
   "metadata": {},
   "source": [
    "### Stand_Lie"
   ]
  },
  {
   "cell_type": "code",
   "execution_count": null,
   "id": "a9f46d72",
   "metadata": {},
   "outputs": [],
   "source": [
    "openfig(\"3.2/usr01_ex01/STAND_LIE.fig\");\n",
    "openfig(\"3.2/usr01_ex02/STAND_LIE.fig\");\n",
    "openfig(\"3.2/usr02_ex03/STAND_LIE.fig\");\n",
    "openfig(\"3.2/usr02_ex04/STAND_LIE.fig\");\n",
    "openfig(\"3.2/usr03_ex05/STAND_LIE.fig\");\n",
    "openfig(\"3.2/usr03_ex06/STAND_LIE.fig\");\n",
    "openfig(\"3.2/usr04_ex07/stand lie.fig\");\n",
    "openfig(\"3.2/usr04_ex08/stand lie.fig\");"
   ]
  },
  {
   "cell_type": "markdown",
   "id": "7bc95eae",
   "metadata": {},
   "source": [
    "TODO"
   ]
  },
  {
   "cell_type": "markdown",
   "id": "a545a11e",
   "metadata": {},
   "source": [
    "### Sit_Stand"
   ]
  },
  {
   "cell_type": "code",
   "execution_count": null,
   "id": "f73498ba",
   "metadata": {},
   "outputs": [],
   "source": [
    "openfig(\"3.2/usr02_ex04/SIT_STAND.fig\");\n",
    "openfig(\"3.2/usr03_ex05/SIT_STAND.fig\");\n",
    "openfig(\"3.2/usr03_ex06/SIT_STAND.fig\");\n",
    "openfig(\"3.2/usr04_ex07/sit stand.fig\");\n",
    "openfig(\"3.2/usr04_ex08/sit stand.fig\");"
   ]
  },
  {
   "cell_type": "markdown",
   "id": "ec7ea1b9",
   "metadata": {},
   "source": [
    "Na atividade de transição SIT_STAND verificam-se valores superiores de frequência no eixo X que variam entre 0.41Hz e 1.5Hz. Nos eixos Y e Z os valores são bastante similares não ultrapassando 0.92Hz. A maior variação ao nível da magnitude verificou-se no acelerómetro Y."
   ]
  },
  {
   "cell_type": "markdown",
   "id": "bb86a487",
   "metadata": {},
   "source": [
    "### Sit_Lie"
   ]
  },
  {
   "cell_type": "code",
   "execution_count": null,
   "id": "f79267cb",
   "metadata": {},
   "outputs": [],
   "source": [
    "openfig(\"3.2/usr02_ex04/SIT_LIE.fig\");\n",
    "openfig(\"3.2/usr03_ex05/SIT_LIE.fig\");\n",
    "openfig(\"3.2/usr03_ex06/SIT_LIE.fig\");\n",
    "openfig(\"3.2/usr04_ex07/sit lie.fig\");\n",
    "openfig(\"3.2/usr04_ex08/sit lie.fig\");"
   ]
  },
  {
   "cell_type": "markdown",
   "id": "97129ebf",
   "metadata": {},
   "source": [
    "Na atividade de transição SIT_LIE verifica-se que as frequências são bastante semelhantes em todos os eixos e com valores muito próximos de 0Hz, nunca ultrapassando o valor de 0.53Hz. De notar que no eixo Z há alguma disparidade relativamente ao valor da magnitude."
   ]
  },
  {
   "cell_type": "markdown",
   "id": "848f7cc0",
   "metadata": {},
   "source": [
    "### Walking Up"
   ]
  },
  {
   "cell_type": "code",
   "execution_count": null,
   "id": "19e4432e-fe6e-40d3-aff6-75c0be6ea5d2",
   "metadata": {},
   "outputs": [],
   "source": [
    "openfig(\"3.2/usr01_ex01/WALKING_UP.fig\");\n",
    "openfig(\"3.2/usr01_ex02/WALKING_UP.fig\");\n",
    "openfig(\"3.2/usr02_ex03/WALKING_UP.fig\");\n",
    "openfig(\"3.2/usr02_ex04/WALKING_UP.fig\");\n",
    "openfig(\"3.2/usr03_ex05/WALKING_UP.fig\");\n",
    "openfig(\"3.2/usr03_ex06/WALKING_UP.fig\");\n",
    "openfig(\"3.2/usr04_ex07/walking upstairs.fig\");\n",
    "openfig(\"3.2/usr04_ex08/walking upstairs.fig\");"
   ]
  },
  {
   "cell_type": "markdown",
   "id": "25c18eca",
   "metadata": {},
   "source": [
    "Na atividade dinâmica WALKING UPSTAIRS, as frequências obtidas pela DFT para os acelerómetros X e Y, variando entre 1.30Hz e 1.69Hz. O acelerómetro X obteve uma magnitude bastante alta, que vai de encontro ao esperado, visto que o utilizador está a subir escadas. No eixo Z as frequências obtidas foram bastante mais baixas variando entre 0.62Hz e 0.83Hz, de notar que muitos utilizadores tiveram a mesma frequência, 0.79Hz.  "
   ]
  },
  {
   "cell_type": "markdown",
   "id": "6384dabb",
   "metadata": {},
   "source": [
    "### Walking Down"
   ]
  },
  {
   "cell_type": "code",
   "execution_count": null,
   "id": "b427ddc9",
   "metadata": {},
   "outputs": [],
   "source": [
    "openfig(\"3.2/usr01_ex01/WALKING_DOWN.fig\");\n",
    "openfig(\"3.2/usr01_ex02/WALKING_DOWN.fig\");\n",
    "openfig(\"3.2/usr02_ex03/WALKING_DOWN.fig\");\n",
    "openfig(\"3.2/usr02_ex04/WALKING_DOWN.fig\");\n",
    "openfig(\"3.2/usr03_ex05/WALKING_DOWN.fig\");\n",
    "openfig(\"3.2/usr03_ex06/WALKING_DOWN.fig\");\n",
    "openfig(\"3.2/usr04_ex07/walking downstairs.fig\");\n",
    "openfig(\"3.2/usr04_ex08/walking downstairs.fig\");"
   ]
  },
  {
   "cell_type": "markdown",
   "id": "2e6ec39e",
   "metadata": {},
   "source": [
    "Na atividade dinâmica WALKING DOWNSTAIRS, através da DFT as frequências que foram obtidas no acelerómetros X e Y variam entre os 1.54Hz e 2.04Hz. Como esperado nesta atividade, a qual se refere a descer escadas, o acelerómetro X obteve valores de magnitude elevados. Relativamente ao eixo Z as frequências geradas são menores, quase sempre abaixo de 1Hz, exceptuando o caso do utilizador 2 na experiência 3 que obteve um valor de 1.67Hz."
   ]
  },
  {
   "cell_type": "markdown",
   "id": "1809ea57",
   "metadata": {},
   "source": [
    "## Exercício 3.4"
   ]
  },
  {
   "cell_type": "code",
   "execution_count": null,
   "id": "bb481888",
   "metadata": {},
   "outputs": [],
   "source": [
    "atividades = [\"Usr01Exp01\" \"Usr01Exp02\" \"Usr02Exp03\" \"Usr02Exp04\" \"Usr03Exp05\" \"Usr03Exp06\" \"Usr04Exp07\" \"Usr04Exp08\"];\n",
    "walking = [53 52 105 107 73 101 114 54];\n",
    "walking_up = [43 48 49 48 48 50 39 50];\n",
    "walking_down = [48 51 45 56 51 55 49 49];\n",
    "\n",
    "table(atividades',walking', walking_up', walking_down', 'VariableNames', {'Experiencias', 'Walking', 'Walking upstairs', 'Walking downstairs'})\n",
    "\n",
    "media_walking = mean(walking)\n",
    "media_walking_up = mean(walking_up)\n",
    "media_walking_down = mean(walking_down)\n",
    "\n",
    "desvio_walking = std(walking)\n",
    "desvio_walking_up = std(walking_up)\n",
    "desvio_walking_down = std(walking_down)"
   ]
  },
  {
   "cell_type": "markdown",
   "id": "17aa6080",
   "metadata": {},
   "source": [
    "## Exercício 3.5"
   ]
  },
  {
   "cell_type": "code",
   "execution_count": null,
   "id": "7a58c1b6",
   "metadata": {},
   "outputs": [],
   "source": [
    "openfig(\"3.2/usr01_ex01/STAND.fig\");\n",
    "openfig(\"3.2/usr01_ex01/STAND_SIT.fig\");\n",
    "openfig(\"3.2/usr01_ex01/WALKING_UP.fig\");"
   ]
  },
  {
   "cell_type": "markdown",
   "id": "6d0b5832",
   "metadata": {},
   "source": [
    "As atividades são facilmente diferenciáveis através da visualização da sua DFT, nas atividades estáticas todos os acelerómetros obtém frequências de 0Hz, em todos os utilizadores. Nas atividade de transição as frequências são normalmente inferiores a 1Hz e com magnitudes baixas, entre 3 e 10. Nas atividades dinâmicas as frequências dos acelerómetros são superiores às frequências das atividades estáticas e de transição, com magnitudes bastante superiores. "
   ]
  },
  {
   "cell_type": "markdown",
   "id": "0c157f99",
   "metadata": {},
   "source": [
    "## Exercício 4.1"
   ]
  },
  {
   "cell_type": "code",
   "execution_count": null,
   "id": "d303aa73",
   "metadata": {},
   "outputs": [],
   "source": [
    "%NAO ESTA FEITO, APENAS TESTES\n",
    "[ACC_X, ACC_Y, ACC_Z] = openFile(\"InputFiles/acc_exp01_user01.txt\");\n",
    "data = ACC_X;\n",
    "fs = 50;\n",
    "Tframe = 0.128; %largura temporal janela\n",
    "Toverlap = 0.064; %sobreposicao temporal janela\n",
    "Nframe = round(Tframe*fs); %pontos\n",
    "Noverlap = round(Toverlap*fs); %pontos\n",
    "h = hamming(Nframe);\n",
    "deltat = Tframe-Toverlap;\n",
    "\n",
    "if(mod(Nframe,2)==0)\n",
    "    f_frame=-fs/2:fs/Nframe:fs/2-fs/Nframe;\n",
    "else\n",
    "    f_frame=-fs/2+fs/Nframe/2:fs/Nframe:fs/2-fs/Nframe/2;\n",
    "end\n",
    "freq_relev = [];\n",
    "nframes=0;\n",
    "tframes=[];\n",
    "t = linspace(0,(N-1)/fs,N);\n",
    "for i=1:Nframe-Noverlap:N-Nframe+1\n",
    "    x_frame=data(i:i+Nframe-1).*h;\n",
    "    X = abs(fftshift(fft(x_frame))); %m=magnitude\n",
    "    X(abs(X)<abs(0.8*max(X)))=0;\n",
    "    freq_relev = [freq_relev, X];\n",
    "    nframes=nframes+1;\n",
    "end\n",
    "tframes = deltat:deltat:deltat*nframes;\n",
    "plot(tframes, freq_relev');"
   ]
  },
  {
   "cell_type": "code",
   "execution_count": null,
   "id": "deced26c",
   "metadata": {},
   "outputs": [],
   "source": []
  }
 ],
 "metadata": {
  "kernelspec": {
   "display_name": "Matlab",
   "language": "matlab",
   "name": "matlab"
  },
  "language_info": {
   "codemirror_mode": "octave",
   "file_extension": ".m",
   "help_links": [
    {
     "text": "MetaKernel Magics",
     "url": "https://metakernel.readthedocs.io/en/latest/source/README.html"
    }
   ],
   "mimetype": "text/x-octave",
   "name": "matlab",
   "version": "0.16.11"
  }
 },
 "nbformat": 4,
 "nbformat_minor": 5
}
